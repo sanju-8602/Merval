{
  "nbformat": 4,
  "nbformat_minor": 0,
  "metadata": {
    "colab": {
      "provenance": []
    },
    "kernelspec": {
      "name": "python3",
      "display_name": "Python 3"
    },
    "language_info": {
      "name": "python"
    }
  },
  "cells": [
    {
      "cell_type": "code",
      "execution_count": 1,
      "metadata": {
        "id": "3AR-PccEliKV"
      },
      "outputs": [],
      "source": [
        "import numpy as np\n",
        "import pandas as pd\n",
        "import yfinance as yf\n",
        "import matplotlib.pyplot as plt\n",
        "import seaborn as sns"
      ]
    },
    {
      "cell_type": "code",
      "source": [
        "stock = '^DJI'\n",
        "data = yf.download(stock,'2010-01-01','2023-05-14')\n",
        "data.head()"
      ],
      "metadata": {
        "colab": {
          "base_uri": "https://localhost:8080/",
          "height": 255
        },
        "id": "EozARi_Pll2q",
        "outputId": "272e48fd-d8ed-4e9a-fb05-f4f57600f8fc"
      },
      "execution_count": 42,
      "outputs": [
        {
          "output_type": "stream",
          "name": "stdout",
          "text": [
            "\r[*********************100%***********************]  1 of 1 completed\n"
          ]
        },
        {
          "output_type": "execute_result",
          "data": {
            "text/plain": [
              "                    Open          High           Low         Close  \\\n",
              "Date                                                                 \n",
              "2010-01-04  10430.690430  10604.969727  10430.690430  10583.959961   \n",
              "2010-01-05  10584.559570  10584.559570  10522.519531  10572.019531   \n",
              "2010-01-06  10564.719727  10594.990234  10546.549805  10573.679688   \n",
              "2010-01-07  10571.110352  10612.370117  10505.209961  10606.860352   \n",
              "2010-01-08  10606.400391  10619.400391  10554.330078  10618.190430   \n",
              "\n",
              "               Adj Close     Volume  \n",
              "Date                                 \n",
              "2010-01-04  10583.959961  179780000  \n",
              "2010-01-05  10572.019531  188540000  \n",
              "2010-01-06  10573.679688  186040000  \n",
              "2010-01-07  10606.860352  217390000  \n",
              "2010-01-08  10618.190430  172710000  "
            ],
            "text/html": [
              "\n",
              "  <div id=\"df-2d44cc74-3692-4554-a00e-3e1e28312cbd\">\n",
              "    <div class=\"colab-df-container\">\n",
              "      <div>\n",
              "<style scoped>\n",
              "    .dataframe tbody tr th:only-of-type {\n",
              "        vertical-align: middle;\n",
              "    }\n",
              "\n",
              "    .dataframe tbody tr th {\n",
              "        vertical-align: top;\n",
              "    }\n",
              "\n",
              "    .dataframe thead th {\n",
              "        text-align: right;\n",
              "    }\n",
              "</style>\n",
              "<table border=\"1\" class=\"dataframe\">\n",
              "  <thead>\n",
              "    <tr style=\"text-align: right;\">\n",
              "      <th></th>\n",
              "      <th>Open</th>\n",
              "      <th>High</th>\n",
              "      <th>Low</th>\n",
              "      <th>Close</th>\n",
              "      <th>Adj Close</th>\n",
              "      <th>Volume</th>\n",
              "    </tr>\n",
              "    <tr>\n",
              "      <th>Date</th>\n",
              "      <th></th>\n",
              "      <th></th>\n",
              "      <th></th>\n",
              "      <th></th>\n",
              "      <th></th>\n",
              "      <th></th>\n",
              "    </tr>\n",
              "  </thead>\n",
              "  <tbody>\n",
              "    <tr>\n",
              "      <th>2010-01-04</th>\n",
              "      <td>10430.690430</td>\n",
              "      <td>10604.969727</td>\n",
              "      <td>10430.690430</td>\n",
              "      <td>10583.959961</td>\n",
              "      <td>10583.959961</td>\n",
              "      <td>179780000</td>\n",
              "    </tr>\n",
              "    <tr>\n",
              "      <th>2010-01-05</th>\n",
              "      <td>10584.559570</td>\n",
              "      <td>10584.559570</td>\n",
              "      <td>10522.519531</td>\n",
              "      <td>10572.019531</td>\n",
              "      <td>10572.019531</td>\n",
              "      <td>188540000</td>\n",
              "    </tr>\n",
              "    <tr>\n",
              "      <th>2010-01-06</th>\n",
              "      <td>10564.719727</td>\n",
              "      <td>10594.990234</td>\n",
              "      <td>10546.549805</td>\n",
              "      <td>10573.679688</td>\n",
              "      <td>10573.679688</td>\n",
              "      <td>186040000</td>\n",
              "    </tr>\n",
              "    <tr>\n",
              "      <th>2010-01-07</th>\n",
              "      <td>10571.110352</td>\n",
              "      <td>10612.370117</td>\n",
              "      <td>10505.209961</td>\n",
              "      <td>10606.860352</td>\n",
              "      <td>10606.860352</td>\n",
              "      <td>217390000</td>\n",
              "    </tr>\n",
              "    <tr>\n",
              "      <th>2010-01-08</th>\n",
              "      <td>10606.400391</td>\n",
              "      <td>10619.400391</td>\n",
              "      <td>10554.330078</td>\n",
              "      <td>10618.190430</td>\n",
              "      <td>10618.190430</td>\n",
              "      <td>172710000</td>\n",
              "    </tr>\n",
              "  </tbody>\n",
              "</table>\n",
              "</div>\n",
              "      <button class=\"colab-df-convert\" onclick=\"convertToInteractive('df-2d44cc74-3692-4554-a00e-3e1e28312cbd')\"\n",
              "              title=\"Convert this dataframe to an interactive table.\"\n",
              "              style=\"display:none;\">\n",
              "        \n",
              "  <svg xmlns=\"http://www.w3.org/2000/svg\" height=\"24px\"viewBox=\"0 0 24 24\"\n",
              "       width=\"24px\">\n",
              "    <path d=\"M0 0h24v24H0V0z\" fill=\"none\"/>\n",
              "    <path d=\"M18.56 5.44l.94 2.06.94-2.06 2.06-.94-2.06-.94-.94-2.06-.94 2.06-2.06.94zm-11 1L8.5 8.5l.94-2.06 2.06-.94-2.06-.94L8.5 2.5l-.94 2.06-2.06.94zm10 10l.94 2.06.94-2.06 2.06-.94-2.06-.94-.94-2.06-.94 2.06-2.06.94z\"/><path d=\"M17.41 7.96l-1.37-1.37c-.4-.4-.92-.59-1.43-.59-.52 0-1.04.2-1.43.59L10.3 9.45l-7.72 7.72c-.78.78-.78 2.05 0 2.83L4 21.41c.39.39.9.59 1.41.59.51 0 1.02-.2 1.41-.59l7.78-7.78 2.81-2.81c.8-.78.8-2.07 0-2.86zM5.41 20L4 18.59l7.72-7.72 1.47 1.35L5.41 20z\"/>\n",
              "  </svg>\n",
              "      </button>\n",
              "      \n",
              "  <style>\n",
              "    .colab-df-container {\n",
              "      display:flex;\n",
              "      flex-wrap:wrap;\n",
              "      gap: 12px;\n",
              "    }\n",
              "\n",
              "    .colab-df-convert {\n",
              "      background-color: #E8F0FE;\n",
              "      border: none;\n",
              "      border-radius: 50%;\n",
              "      cursor: pointer;\n",
              "      display: none;\n",
              "      fill: #1967D2;\n",
              "      height: 32px;\n",
              "      padding: 0 0 0 0;\n",
              "      width: 32px;\n",
              "    }\n",
              "\n",
              "    .colab-df-convert:hover {\n",
              "      background-color: #E2EBFA;\n",
              "      box-shadow: 0px 1px 2px rgba(60, 64, 67, 0.3), 0px 1px 3px 1px rgba(60, 64, 67, 0.15);\n",
              "      fill: #174EA6;\n",
              "    }\n",
              "\n",
              "    [theme=dark] .colab-df-convert {\n",
              "      background-color: #3B4455;\n",
              "      fill: #D2E3FC;\n",
              "    }\n",
              "\n",
              "    [theme=dark] .colab-df-convert:hover {\n",
              "      background-color: #434B5C;\n",
              "      box-shadow: 0px 1px 3px 1px rgba(0, 0, 0, 0.15);\n",
              "      filter: drop-shadow(0px 1px 2px rgba(0, 0, 0, 0.3));\n",
              "      fill: #FFFFFF;\n",
              "    }\n",
              "  </style>\n",
              "\n",
              "      <script>\n",
              "        const buttonEl =\n",
              "          document.querySelector('#df-2d44cc74-3692-4554-a00e-3e1e28312cbd button.colab-df-convert');\n",
              "        buttonEl.style.display =\n",
              "          google.colab.kernel.accessAllowed ? 'block' : 'none';\n",
              "\n",
              "        async function convertToInteractive(key) {\n",
              "          const element = document.querySelector('#df-2d44cc74-3692-4554-a00e-3e1e28312cbd');\n",
              "          const dataTable =\n",
              "            await google.colab.kernel.invokeFunction('convertToInteractive',\n",
              "                                                     [key], {});\n",
              "          if (!dataTable) return;\n",
              "\n",
              "          const docLinkHtml = 'Like what you see? Visit the ' +\n",
              "            '<a target=\"_blank\" href=https://colab.research.google.com/notebooks/data_table.ipynb>data table notebook</a>'\n",
              "            + ' to learn more about interactive tables.';\n",
              "          element.innerHTML = '';\n",
              "          dataTable['output_type'] = 'display_data';\n",
              "          await google.colab.output.renderOutput(dataTable, element);\n",
              "          const docLink = document.createElement('div');\n",
              "          docLink.innerHTML = docLinkHtml;\n",
              "          element.appendChild(docLink);\n",
              "        }\n",
              "      </script>\n",
              "    </div>\n",
              "  </div>\n",
              "  "
            ]
          },
          "metadata": {},
          "execution_count": 42
        }
      ]
    },
    {
      "cell_type": "code",
      "source": [
        "price = data['Close']\n",
        "price"
      ],
      "metadata": {
        "colab": {
          "base_uri": "https://localhost:8080/"
        },
        "id": "UiHlE7vPlrIP",
        "outputId": "3cf66388-55e4-4b56-e342-a64b28faf97a"
      },
      "execution_count": 43,
      "outputs": [
        {
          "output_type": "execute_result",
          "data": {
            "text/plain": [
              "Date\n",
              "2010-01-04    10583.959961\n",
              "2010-01-05    10572.019531\n",
              "2010-01-06    10573.679688\n",
              "2010-01-07    10606.860352\n",
              "2010-01-08    10618.190430\n",
              "                  ...     \n",
              "2023-05-08    33618.691406\n",
              "2023-05-09    33561.808594\n",
              "2023-05-10    33531.328125\n",
              "2023-05-11    33309.511719\n",
              "2023-05-12    33300.621094\n",
              "Name: Close, Length: 3363, dtype: float64"
            ]
          },
          "metadata": {},
          "execution_count": 43
        }
      ]
    },
    {
      "cell_type": "code",
      "source": [
        "roll_max = data['Close'].rolling(len(price)-1,min_periods=1).max()\n",
        "daily_drawdown = data['Close']/roll_max - 1.0\n",
        "mdd = daily_drawdown.rolling(len(price)-1,min_periods=1).min()\n",
        "mdd.plot()\n"
      ],
      "metadata": {
        "colab": {
          "base_uri": "https://localhost:8080/",
          "height": 439
        },
        "id": "eZnFiIaRmWTh",
        "outputId": "092df453-0a91-4aff-8d71-03e5da8b582e"
      },
      "execution_count": 44,
      "outputs": [
        {
          "output_type": "execute_result",
          "data": {
            "text/plain": [
              "<Axes: xlabel='Date'>"
            ]
          },
          "metadata": {},
          "execution_count": 44
        },
        {
          "output_type": "display_data",
          "data": {
            "text/plain": [
              "<Figure size 640x480 with 1 Axes>"
            ],
            "image/png": "[encoded data removed]"
          },
          "metadata": {}
        }
      ]
    },
    {
      "cell_type": "code",
      "source": [
        "print(f\"Maximum Drawdown is: {mdd[-1]*100} %\")"
      ],
      "metadata": {
        "colab": {
          "base_uri": "https://localhost:8080/"
        },
        "id": "bzUdjUrKmbUU",
        "outputId": "80c62717-be60-48a9-ff39-9d1420ae41be"
      },
      "execution_count": 45,
      "outputs": [
        {
          "output_type": "stream",
          "name": "stdout",
          "text": [
            "Maximum Drawdown is: -37.086171369594325 %\n"
          ]
        }
      ]
    },
    {
      "cell_type": "code",
      "source": [
        "returns = data['Close'].resample('D').ffill().pct_change().to_numpy()\n",
        "returns[0] = 0\n",
        "returns\n"
      ],
      "metadata": {
        "colab": {
          "base_uri": "https://localhost:8080/"
        },
        "id": "1TUvGLC5me_F",
        "outputId": "d143830f-ccc1-4779-ffd3-5f5f04b49881"
      },
      "execution_count": 46,
      "outputs": [
        {
          "output_type": "execute_result",
          "data": {
            "text/plain": [
              "array([ 0.        , -0.00112816,  0.00015703, ..., -0.00090819,\n",
              "       -0.0066152 , -0.00026691])"
            ]
          },
          "metadata": {},
          "execution_count": 46
        }
      ]
    },
    {
      "cell_type": "code",
      "source": [
        "cumulative_ret =( 1+returns).cumprod()\n",
        "cumulative_ret"
      ],
      "metadata": {
        "colab": {
          "base_uri": "https://localhost:8080/"
        },
        "id": "dI-aY_S_miVH",
        "outputId": "7c709398-c5f5-421c-e818-892ffbcb9d54"
      },
      "execution_count": 47,
      "outputs": [
        {
          "output_type": "execute_result",
          "data": {
            "text/plain": [
              "array([1.        , 0.99887184, 0.99902869, ..., 3.16812689, 3.1471691 ,\n",
              "       3.14632909])"
            ]
          },
          "metadata": {},
          "execution_count": 47
        }
      ]
    },
    {
      "cell_type": "code",
      "source": [
        "print(f\"Cumulative return is {cumulative_ret[-1]*100}%\")"
      ],
      "metadata": {
        "colab": {
          "base_uri": "https://localhost:8080/"
        },
        "id": "Bg289AFHmm8n",
        "outputId": "8dae07db-1bef-480f-970a-205dc0cc8233"
      },
      "execution_count": 48,
      "outputs": [
        {
          "output_type": "stream",
          "name": "stdout",
          "text": [
            "Cumulative return is 314.6329088229129%\n"
          ]
        }
      ]
    },
    {
      "cell_type": "code",
      "source": [
        "yearly_returns = data['Close'].resample('Y').ffill().pct_change()\n",
        "yearly_returns"
      ],
      "metadata": {
        "colab": {
          "base_uri": "https://localhost:8080/"
        },
        "id": "HfJ6cYpMmrGY",
        "outputId": "1f2de678-f238-4d94-9c78-dc09a8312b4a"
      },
      "execution_count": 49,
      "outputs": [
        {
          "output_type": "execute_result",
          "data": {
            "text/plain": [
              "Date\n",
              "2010-12-31         NaN\n",
              "2011-12-31    0.055284\n",
              "2012-12-31    0.072566\n",
              "2013-12-31    0.264994\n",
              "2014-12-31    0.075191\n",
              "2015-12-31   -0.022333\n",
              "2016-12-31    0.134150\n",
              "2017-12-31    0.250808\n",
              "2018-12-31   -0.056303\n",
              "2019-12-31    0.223384\n",
              "2020-12-31    0.072465\n",
              "2021-12-31    0.187275\n",
              "2022-12-31   -0.087815\n",
              "2023-12-31    0.004627\n",
              "Freq: A-DEC, Name: Close, dtype: float64"
            ]
          },
          "metadata": {},
          "execution_count": 49
        }
      ]
    },
    {
      "cell_type": "code",
      "source": [
        "monthly_returns = data['Close'].resample('M').ffill().pct_change()\n",
        "monthly_returns"
      ],
      "metadata": {
        "colab": {
          "base_uri": "https://localhost:8080/"
        },
        "id": "myVYlI52mtjs",
        "outputId": "081794f0-4d91-4675-dac9-729b8404436b"
      },
      "execution_count": 50,
      "outputs": [
        {
          "output_type": "execute_result",
          "data": {
            "text/plain": [
              "Date\n",
              "2010-01-31         NaN\n",
              "2010-02-28    0.025620\n",
              "2010-03-31    0.051463\n",
              "2010-04-30    0.013999\n",
              "2010-05-31   -0.079209\n",
              "                ...   \n",
              "2023-01-31    0.028322\n",
              "2023-02-28   -0.041933\n",
              "2023-03-31    0.018907\n",
              "2023-04-30    0.024764\n",
              "2023-05-31   -0.023390\n",
              "Freq: M, Name: Close, Length: 161, dtype: float64"
            ]
          },
          "metadata": {},
          "execution_count": 50
        }
      ]
    },
    {
      "cell_type": "code",
      "source": [
        "avg_yearly_return = yearly_returns.mean()\n",
        "print(f\"Average yearly return is {avg_yearly_return*100}%\")"
      ],
      "metadata": {
        "colab": {
          "base_uri": "https://localhost:8080/"
        },
        "id": "CQQpT-kcmx9g",
        "outputId": "82606a77-6a4b-4a31-83ad-e074e5bb36de"
      },
      "execution_count": 51,
      "outputs": [
        {
          "output_type": "stream",
          "name": "stdout",
          "text": [
            "Average yearly return is 9.033023238160895%\n"
          ]
        }
      ]
    },
    {
      "cell_type": "code",
      "source": [
        "sharpe_ratio = (avg_yearly_return - 0.07)/(monthly_returns.std())\n",
        "print(f\"Sharpe ratio is : {sharpe_ratio*10}\")"
      ],
      "metadata": {
        "colab": {
          "base_uri": "https://localhost:8080/"
        },
        "id": "QdfDxyoAm2gn",
        "outputId": "0cb4e803-e2cf-40c6-ea24-29b95c6d3411"
      },
      "execution_count": 52,
      "outputs": [
        {
          "output_type": "stream",
          "name": "stdout",
          "text": [
            "Sharpe ratio is : 4.859065556807879\n"
          ]
        }
      ]
    },
    {
      "cell_type": "code",
      "source": [
        "neg_monthly_returns = monthly_returns[monthly_returns < 0]\n",
        "neg_monthly_returns"
      ],
      "metadata": {
        "colab": {
          "base_uri": "https://localhost:8080/"
        },
        "id": "HUFuPUMVm53D",
        "outputId": "0f62f875-7c0d-45aa-c3b9-d13860656a86"
      },
      "execution_count": 53,
      "outputs": [
        {
          "output_type": "execute_result",
          "data": {
            "text/plain": [
              "Date\n",
              "2010-05-31   -0.079209\n",
              "2010-06-30   -0.035772\n",
              "2010-08-31   -0.043113\n",
              "2010-11-30   -0.010116\n",
              "2011-05-31   -0.018793\n",
              "2011-06-30   -0.012367\n",
              "2011-07-31   -0.021838\n",
              "2011-08-31   -0.043622\n",
              "2011-09-30   -0.060287\n",
              "2012-05-31   -0.062071\n",
              "2012-10-31   -0.025353\n",
              "2012-11-30   -0.005412\n",
              "2013-06-30   -0.013626\n",
              "2013-08-31   -0.044468\n",
              "2014-01-31   -0.052955\n",
              "2014-07-31   -0.015648\n",
              "2014-09-30   -0.003249\n",
              "2014-12-31   -0.000290\n",
              "2015-01-31   -0.036925\n",
              "2015-03-31   -0.019665\n",
              "2015-06-30   -0.021719\n",
              "2015-08-31   -0.065678\n",
              "2015-09-30   -0.014722\n",
              "2015-12-31   -0.016642\n",
              "2016-01-31   -0.055020\n",
              "2016-08-31   -0.001701\n",
              "2016-09-30   -0.005039\n",
              "2016-10-31   -0.009052\n",
              "2017-03-31   -0.007160\n",
              "2018-02-28   -0.042838\n",
              "2018-03-31   -0.037000\n",
              "2018-06-30   -0.005915\n",
              "2018-10-31   -0.050742\n",
              "2018-12-31   -0.086575\n",
              "2019-05-31   -0.066855\n",
              "2019-08-31   -0.017160\n",
              "2020-01-31   -0.009896\n",
              "2020-02-29   -0.100746\n",
              "2020-03-31   -0.137438\n",
              "2020-09-30   -0.022805\n",
              "2020-10-31   -0.046077\n",
              "2021-01-31   -0.020383\n",
              "2021-06-30   -0.000780\n",
              "2021-09-30   -0.042895\n",
              "2021-11-30   -0.037294\n",
              "2022-01-31   -0.033200\n",
              "2022-02-28   -0.035274\n",
              "2022-04-30   -0.049055\n",
              "2022-06-30   -0.067132\n",
              "2022-08-31   -0.040636\n",
              "2022-09-30   -0.088381\n",
              "2022-12-31   -0.041704\n",
              "2023-02-28   -0.041933\n",
              "2023-05-31   -0.023390\n",
              "Name: Close, dtype: float64"
            ]
          },
          "metadata": {},
          "execution_count": 53
        }
      ]
    },
    {
      "cell_type": "code",
      "source": [
        "std_neg = neg_monthly_returns.std()\n",
        "sortino = ((avg_yearly_return - 0.07)*10.0)/std_neg\n",
        "print(f\"Sortino Ratio: {sortino}\")"
      ],
      "metadata": {
        "colab": {
          "base_uri": "https://localhost:8080/"
        },
        "id": "NCe9WOSjm8sk",
        "outputId": "ef616b40-8029-48c0-a16e-6d8ebcf4c3b6"
      },
      "execution_count": 55,
      "outputs": [
        {
          "output_type": "stream",
          "name": "stdout",
          "text": [
            "Sortino Ratio: 7.220013176361636\n"
          ]
        }
      ]
    },
    {
      "cell_type": "code",
      "source": [],
      "metadata": {
        "id": "TTt3WnwrnAAM"
      },
      "execution_count": null,
      "outputs": []
    }
  ]
}